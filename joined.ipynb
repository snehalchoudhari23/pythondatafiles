{
 "cells": [
  {
   "cell_type": "code",
   "execution_count": 2,
   "metadata": {},
   "outputs": [
    {
     "name": "stdout",
     "output_type": "stream",
     "text": [
      "this is dictionary function\n",
      "{'Name': 'snehal', 'Age': 25, 'City': 'Nagpur'}\n"
     ]
    }
   ],
   "source": [
    "print('this is dictionary function')\n",
    "\n",
    "def combine_parameters(param1, param2, param3):\n",
    "    \"\"\"Combines three parameters into a dictionary.\n",
    "\n",
    "    Args:\n",
    "        Name: The first parameter.\n",
    "        Age: The second parameter.\n",
    "        City: The third parameter.\n",
    "\n",
    "    Returns:\n",
    "        A dictionary containing the three parameters as key-value pairs.\n",
    "    \"\"\"\n",
    "\n",
    "    return {\n",
    "        \"Name\": param1,\n",
    "        \"Age\": param2,\n",
    "        \"City\": param3\n",
    "    }\n",
    "  \n",
    "name = \"snehal\"\n",
    "age = 25\n",
    "city = \"Nagpur\"\n",
    "\n",
    "combined_params = combine_parameters(name, age, city)\n",
    "\n",
    "print(combined_params)"
   ]
  },
  {
   "cell_type": "code",
   "execution_count": null,
   "metadata": {},
   "outputs": [],
   "source": []
  }
 ],
 "metadata": {
  "kernelspec": {
   "display_name": "base",
   "language": "python",
   "name": "python3"
  },
  "language_info": {
   "codemirror_mode": {
    "name": "ipython",
    "version": 3
   },
   "file_extension": ".py",
   "mimetype": "text/x-python",
   "name": "python",
   "nbconvert_exporter": "python",
   "pygments_lexer": "ipython3",
   "version": "3.11.5"
  }
 },
 "nbformat": 4,
 "nbformat_minor": 2
}
