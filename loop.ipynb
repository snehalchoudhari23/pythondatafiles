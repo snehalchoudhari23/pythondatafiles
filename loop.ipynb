{
 "cells": [
  {
   "cell_type": "markdown",
   "metadata": {},
   "source": [
    "# while loop\n"
   ]
  },
  {
   "cell_type": "code",
   "execution_count": 2,
   "metadata": {},
   "outputs": [],
   "source": [
    "ccc_list = [\n",
    "    {'Country': 'India', 'City': 'New Delhi', 'Continent': 'Asia'},\n",
    "    {'Country': 'Australia', 'City': 'Canberra', 'Continent': 'Australia'},\n",
    "    {'Country': 'South Africa', 'City': 'Cape Town', 'Continent': 'Africa'},\n",
    "    {'Country': 'France', 'City': 'Paris', 'Continent': 'Europe'},\n",
    "    {'Country': 'United States', 'City': 'Washington DC', 'Continent': 'North America'},\n",
    "]"
   ]
  },
  {
   "cell_type": "code",
   "execution_count": 3,
   "metadata": {},
   "outputs": [
    {
     "name": "stdout",
     "output_type": "stream",
     "text": [
      "India belongs to Asia Continent\n",
      "Australia belongs to Australia Continent\n",
      "South Africa belongs to Africa Continent\n",
      "France belongs to Europe Continent\n",
      "United States belongs to North America Continent\n"
     ]
    }
   ],
   "source": [
    "i = 0\n",
    "while i < len(ccc_list):\n",
    "    country = ccc_list[i]['Country']\n",
    "    continent = ccc_list[i]['Continent']\n",
    "    print(f'{country} belongs to {continent} Continent')\n",
    "    i = i + 1"
   ]
  },
  {
   "cell_type": "markdown",
   "metadata": {},
   "source": [
    "# for loop"
   ]
  },
  {
   "cell_type": "code",
   "execution_count": 4,
   "metadata": {},
   "outputs": [
    {
     "name": "stdout",
     "output_type": "stream",
     "text": [
      "New Delhi is the capital of India\n",
      "Canberra is the capital of Australia\n",
      "Cape Town is the capital of South Africa\n",
      "Paris is the capital of France\n",
      "Washington DC is the capital of United States\n"
     ]
    }
   ],
   "source": [
    "for values in ccc_list:\n",
    "    country = values['Country']\n",
    "    city = values['City']\n",
    "    continent = values['Continent']\n",
    "\n",
    "    print(f'{city} is the capital of {country}')\n",
    "    "
   ]
  },
  {
   "cell_type": "code",
   "execution_count": 5,
   "metadata": {},
   "outputs": [],
   "source": [
    "country_and_its_language = {\n",
    "    'India': 'Hindi',\n",
    "    'Australia': 'English',\n",
    "    'South Africa': 'Afrikaans',\n",
    "    'France': 'French',\n",
    "    'United States': 'English'\n",
    "}"
   ]
  },
  {
   "cell_type": "code",
   "execution_count": 6,
   "metadata": {},
   "outputs": [],
   "source": [
    "def add_language(language):\n",
    "    country = language['Country']\n",
    "    if country in country_and_its_language:\n",
    "        language['Language'] = country_and_its_language[country]\n",
    "        \n",
    "    return language"
   ]
  },
  {
   "cell_type": "code",
   "execution_count": 7,
   "metadata": {},
   "outputs": [
    {
     "name": "stdout",
     "output_type": "stream",
     "text": [
      "[{'Country': 'India', 'City': 'New Delhi', 'Continent': 'Asia', 'Language': 'Hindi'}, {'Country': 'Australia', 'City': 'Canberra', 'Continent': 'Australia', 'Language': 'English'}, {'Country': 'South Africa', 'City': 'Cape Town', 'Continent': 'Africa', 'Language': 'Afrikaans'}, {'Country': 'France', 'City': 'Paris', 'Continent': 'Europe', 'Language': 'French'}, {'Country': 'United States', 'City': 'Washington DC', 'Continent': 'North America', 'Language': 'English'}]\n"
     ]
    }
   ],
   "source": [
    "cccl_list = list(map(add_language, ccc_list))\n",
    "\n",
    "print(cccl_list)"
   ]
  },
  {
   "cell_type": "code",
   "execution_count": null,
   "metadata": {},
   "outputs": [],
   "source": []
  }
 ],
 "metadata": {
  "kernelspec": {
   "display_name": "base",
   "language": "python",
   "name": "python3"
  },
  "language_info": {
   "codemirror_mode": {
    "name": "ipython",
    "version": 3
   },
   "file_extension": ".py",
   "mimetype": "text/x-python",
   "name": "python",
   "nbconvert_exporter": "python",
   "pygments_lexer": "ipython3",
   "version": "3.11.5"
  }
 },
 "nbformat": 4,
 "nbformat_minor": 2
}
