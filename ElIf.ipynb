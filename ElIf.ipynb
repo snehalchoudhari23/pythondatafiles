{
 "cells": [
  {
   "cell_type": "markdown",
   "metadata": {},
   "source": [
    "# join text"
   ]
  },
  {
   "cell_type": "code",
   "execution_count": 1,
   "metadata": {},
   "outputs": [],
   "source": [
    "def join_text (*args,seperator=''):\n",
    "    return seperator.join(args)"
   ]
  },
  {
   "cell_type": "code",
   "execution_count": 2,
   "metadata": {},
   "outputs": [
    {
     "name": "stdout",
     "output_type": "stream",
     "text": [
      "salman khan\n"
     ]
    }
   ],
   "source": [
    "p1 = \"salman\"\n",
    "p2 = \"khan\"\n",
    "\n",
    "joined_text = join_text(p1,p2,seperator=' ')\n",
    "\n",
    "print(joined_text)"
   ]
  },
  {
   "cell_type": "markdown",
   "metadata": {},
   "source": [
    "# Trim Text"
   ]
  },
  {
   "cell_type": "code",
   "execution_count": 3,
   "metadata": {},
   "outputs": [],
   "source": [
    "def trim(text,side = 'both'):\n",
    "    if side == 'left':\n",
    "        return text.lstrip()\n",
    "    elif side == 'right':\n",
    "        return text.rstrip()\n",
    "    elif side == 'both':\n",
    "        return text.strip()"
   ]
  },
  {
   "cell_type": "code",
   "execution_count": 4,
   "metadata": {},
   "outputs": [
    {
     "name": "stdout",
     "output_type": "stream",
     "text": [
      "trimmed(both side): salman khan\n"
     ]
    }
   ],
   "source": [
    "text = \"          salman khan          \"\n",
    "\n",
    "trimmed_text_both = trim(text)\n",
    "print('trimmed(both side):',trimmed_text_both)"
   ]
  },
  {
   "cell_type": "markdown",
   "metadata": {},
   "source": [
    "# substitute\n"
   ]
  },
  {
   "cell_type": "code",
   "execution_count": 5,
   "metadata": {},
   "outputs": [
    {
     "name": "stdout",
     "output_type": "stream",
     "text": [
      "Ram is a good person\n",
      "Ram is a wonderful person\n"
     ]
    }
   ],
   "source": [
    "def substitute(text,old,new):\n",
    "    return text.replace(old,new)\n",
    "\n",
    "real_text = \"Ram is a good person\"\n",
    "old_text = \"good\"\n",
    "new_text = \"wonderful\"\n",
    "\n",
    "substituted_text = substitute(real_text,old_text,new_text)\n",
    "\n",
    "print(real_text)\n",
    "print(substituted_text)"
   ]
  },
  {
   "cell_type": "markdown",
   "metadata": {},
   "source": [
    "# Cut Text"
   ]
  },
  {
   "cell_type": "code",
   "execution_count": 6,
   "metadata": {},
   "outputs": [],
   "source": [
    "def cut_text(text,start,end):\n",
    "    return text[start:end]"
   ]
  },
  {
   "cell_type": "code",
   "execution_count": 8,
   "metadata": {},
   "outputs": [
    {
     "name": "stdout",
     "output_type": "stream",
     "text": [
      "Ram is a wonderful man\n",
      "wonderful \n"
     ]
    }
   ],
   "source": [
    "real_text = \"Ram is a wonderful man\"\n",
    "start_position = 9\n",
    "end_position = 19\n",
    "\n",
    "cut_portion = cut_text(real_text,start_position,end_position)\n",
    "\n",
    "print(real_text)\n",
    "print(cut_portion)"
   ]
  },
  {
   "cell_type": "code",
   "execution_count": null,
   "metadata": {},
   "outputs": [],
   "source": []
  }
 ],
 "metadata": {
  "kernelspec": {
   "display_name": "base",
   "language": "python",
   "name": "python3"
  },
  "language_info": {
   "codemirror_mode": {
    "name": "ipython",
    "version": 3
   },
   "file_extension": ".py",
   "mimetype": "text/x-python",
   "name": "python",
   "nbconvert_exporter": "python",
   "pygments_lexer": "ipython3",
   "version": "3.11.5"
  }
 },
 "nbformat": 4,
 "nbformat_minor": 2
}
